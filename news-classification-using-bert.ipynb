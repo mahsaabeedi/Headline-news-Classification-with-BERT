{
 "cells": [
  {
   "cell_type": "markdown",
   "metadata": {
    "papermill": {
     "duration": 0.029185,
     "end_time": "2020-11-28T08:42:02.177872",
     "exception": false,
     "start_time": "2020-11-28T08:42:02.148687",
     "status": "completed"
    },
    "tags": []
   },
   "source": [
    "![](https://miro.medium.com/max/700/1*HgXA9v1EsqlrRDaC_iORhQ.png)"
   ]
  },
  {
   "cell_type": "markdown",
   "metadata": {
    "papermill": {
     "duration": 0.027118,
     "end_time": "2020-11-28T08:42:02.233180",
     "exception": false,
     "start_time": "2020-11-28T08:42:02.206062",
     "status": "completed"
    },
    "tags": []
   },
   "source": [
    "## Importing Necessary Libraries"
   ]
  },
  {
   "cell_type": "code",
   "execution_count": 1,
   "metadata": {
    "_cell_guid": "b1076dfc-b9ad-4769-8c92-a6c4dae69d19",
    "_uuid": "8f2839f25d086af736a60e9eeb907d3b93b6e0e5",
    "execution": {
     "iopub.execute_input": "2020-11-28T08:42:02.297534Z",
     "iopub.status.busy": "2020-11-28T08:42:02.296706Z",
     "iopub.status.idle": "2020-11-28T08:42:12.224628Z",
     "shell.execute_reply": "2020-11-28T08:42:12.223735Z"
    },
    "papermill": {
     "duration": 9.963996,
     "end_time": "2020-11-28T08:42:12.224778",
     "exception": false,
     "start_time": "2020-11-28T08:42:02.260782",
     "status": "completed"
    },
    "tags": []
   },
   "outputs": [
    {
     "name": "stderr",
     "output_type": "stream",
     "text": [
      "\u001b[34m\u001b[1mwandb\u001b[0m: \u001b[33mWARNING\u001b[0m W&B installed but not logged in.  Run `wandb login` or set the WANDB_API_KEY env variable.\n"
     ]
    }
   ],
   "source": [
    "import pandas as pd\n",
    "import numpy as np\n",
    "\n",
    "import tensorflow as tf\n",
    "import transformers #huggingface transformers library\n",
    "\n",
    "from sklearn.model_selection import train_test_split\n",
    "from sklearn.preprocessing import LabelEncoder\n",
    "import sklearn\n",
    "from sklearn.metrics import confusion_matrix\n",
    "\n",
    "import seaborn as sns\n",
    "import matplotlib.pyplot as plt"
   ]
  },
  {
   "cell_type": "markdown",
   "metadata": {
    "papermill": {
     "duration": 0.028108,
     "end_time": "2020-11-28T08:42:12.281902",
     "exception": false,
     "start_time": "2020-11-28T08:42:12.253794",
     "status": "completed"
    },
    "tags": []
   },
   "source": [
    "## Configuration for TPUs\n",
    "\n",
    "The given news classifier is trained on using BERT model. Since, BERT is a very large model, it requires gpu's and tpu's to train quickly. Here, I have used TPU's provided by Kaggle to train this model."
   ]
  },
  {
   "cell_type": "code",
   "execution_count": 2,
   "metadata": {
    "execution": {
     "iopub.execute_input": "2020-11-28T08:42:12.449505Z",
     "iopub.status.busy": "2020-11-28T08:42:12.396968Z",
     "iopub.status.idle": "2020-11-28T08:42:16.613521Z",
     "shell.execute_reply": "2020-11-28T08:42:16.612828Z"
    },
    "papermill": {
     "duration": 4.303644,
     "end_time": "2020-11-28T08:42:16.613652",
     "exception": false,
     "start_time": "2020-11-28T08:42:12.310008",
     "status": "completed"
    },
    "tags": []
   },
   "outputs": [
    {
     "name": "stdout",
     "output_type": "stream",
     "text": [
      "Running on TPU  grpc://10.0.0.2:8470\n",
      "REPLICAS:  8\n"
     ]
    }
   ],
   "source": [
    "# Detect hardware, return appropriate distribution strategy\n",
    "try:\n",
    "    # TPU detection. No parameters necessary if TPU_NAME environment variable is\n",
    "    # set: this is always the case on Kaggle.\n",
    "    tpu = tf.distribute.cluster_resolver.TPUClusterResolver()\n",
    "    print('Running on TPU ', tpu.master())\n",
    "except ValueError:\n",
    "    tpu = None\n",
    "\n",
    "if tpu:\n",
    "    tf.config.experimental_connect_to_cluster(tpu)\n",
    "    tf.tpu.experimental.initialize_tpu_system(tpu)\n",
    "    strategy = tf.distribute.experimental.TPUStrategy(tpu)\n",
    "else:\n",
    "    # Default distribution strategy in Tensorflow. Works on CPU and single GPU.\n",
    "    strategy = tf.distribute.get_strategy()\n",
    "\n",
    "print(\"REPLICAS: \", strategy.num_replicas_in_sync)"
   ]
  },
  {
   "cell_type": "markdown",
   "metadata": {
    "papermill": {
     "duration": 0.029819,
     "end_time": "2020-11-28T08:42:16.673037",
     "exception": false,
     "start_time": "2020-11-28T08:42:16.643218",
     "status": "completed"
    },
    "tags": []
   },
   "source": [
    "## Preprocessing"
   ]
  },
  {
   "cell_type": "code",
   "execution_count": 3,
   "metadata": {
    "execution": {
     "iopub.execute_input": "2020-11-28T08:42:16.746496Z",
     "iopub.status.busy": "2020-11-28T08:42:16.745271Z",
     "iopub.status.idle": "2020-11-28T08:42:19.337025Z",
     "shell.execute_reply": "2020-11-28T08:42:19.336258Z"
    },
    "papermill": {
     "duration": 2.632181,
     "end_time": "2020-11-28T08:42:19.337177",
     "exception": false,
     "start_time": "2020-11-28T08:42:16.704996",
     "status": "completed"
    },
    "tags": []
   },
   "outputs": [
    {
     "data": {
      "text/html": [
       "<div>\n",
       "<style scoped>\n",
       "    .dataframe tbody tr th:only-of-type {\n",
       "        vertical-align: middle;\n",
       "    }\n",
       "\n",
       "    .dataframe tbody tr th {\n",
       "        vertical-align: top;\n",
       "    }\n",
       "\n",
       "    .dataframe thead th {\n",
       "        text-align: right;\n",
       "    }\n",
       "</style>\n",
       "<table border=\"1\" class=\"dataframe\">\n",
       "  <thead>\n",
       "    <tr style=\"text-align: right;\">\n",
       "      <th></th>\n",
       "      <th>category</th>\n",
       "      <th>headline</th>\n",
       "      <th>authors</th>\n",
       "      <th>link</th>\n",
       "      <th>short_description</th>\n",
       "      <th>date</th>\n",
       "    </tr>\n",
       "  </thead>\n",
       "  <tbody>\n",
       "    <tr>\n",
       "      <th>0</th>\n",
       "      <td>CRIME</td>\n",
       "      <td>There Were 2 Mass Shootings In Texas Last Week...</td>\n",
       "      <td>Melissa Jeltsen</td>\n",
       "      <td>https://www.huffingtonpost.com/entry/texas-ama...</td>\n",
       "      <td>She left her husband. He killed their children...</td>\n",
       "      <td>2018-05-26</td>\n",
       "    </tr>\n",
       "    <tr>\n",
       "      <th>1</th>\n",
       "      <td>ENTERTAINMENT</td>\n",
       "      <td>Will Smith Joins Diplo And Nicky Jam For The 2...</td>\n",
       "      <td>Andy McDonald</td>\n",
       "      <td>https://www.huffingtonpost.com/entry/will-smit...</td>\n",
       "      <td>Of course it has a song.</td>\n",
       "      <td>2018-05-26</td>\n",
       "    </tr>\n",
       "    <tr>\n",
       "      <th>2</th>\n",
       "      <td>ENTERTAINMENT</td>\n",
       "      <td>Hugh Grant Marries For The First Time At Age 57</td>\n",
       "      <td>Ron Dicker</td>\n",
       "      <td>https://www.huffingtonpost.com/entry/hugh-gran...</td>\n",
       "      <td>The actor and his longtime girlfriend Anna Ebe...</td>\n",
       "      <td>2018-05-26</td>\n",
       "    </tr>\n",
       "    <tr>\n",
       "      <th>3</th>\n",
       "      <td>ENTERTAINMENT</td>\n",
       "      <td>Jim Carrey Blasts 'Castrato' Adam Schiff And D...</td>\n",
       "      <td>Ron Dicker</td>\n",
       "      <td>https://www.huffingtonpost.com/entry/jim-carre...</td>\n",
       "      <td>The actor gives Dems an ass-kicking for not fi...</td>\n",
       "      <td>2018-05-26</td>\n",
       "    </tr>\n",
       "    <tr>\n",
       "      <th>4</th>\n",
       "      <td>ENTERTAINMENT</td>\n",
       "      <td>Julianna Margulies Uses Donald Trump Poop Bags...</td>\n",
       "      <td>Ron Dicker</td>\n",
       "      <td>https://www.huffingtonpost.com/entry/julianna-...</td>\n",
       "      <td>The \"Dietland\" actress said using the bags is ...</td>\n",
       "      <td>2018-05-26</td>\n",
       "    </tr>\n",
       "  </tbody>\n",
       "</table>\n",
       "</div>"
      ],
      "text/plain": [
       "        category                                           headline  \\\n",
       "0          CRIME  There Were 2 Mass Shootings In Texas Last Week...   \n",
       "1  ENTERTAINMENT  Will Smith Joins Diplo And Nicky Jam For The 2...   \n",
       "2  ENTERTAINMENT    Hugh Grant Marries For The First Time At Age 57   \n",
       "3  ENTERTAINMENT  Jim Carrey Blasts 'Castrato' Adam Schiff And D...   \n",
       "4  ENTERTAINMENT  Julianna Margulies Uses Donald Trump Poop Bags...   \n",
       "\n",
       "           authors                                               link  \\\n",
       "0  Melissa Jeltsen  https://www.huffingtonpost.com/entry/texas-ama...   \n",
       "1    Andy McDonald  https://www.huffingtonpost.com/entry/will-smit...   \n",
       "2       Ron Dicker  https://www.huffingtonpost.com/entry/hugh-gran...   \n",
       "3       Ron Dicker  https://www.huffingtonpost.com/entry/jim-carre...   \n",
       "4       Ron Dicker  https://www.huffingtonpost.com/entry/julianna-...   \n",
       "\n",
       "                                   short_description       date  \n",
       "0  She left her husband. He killed their children... 2018-05-26  \n",
       "1                           Of course it has a song. 2018-05-26  \n",
       "2  The actor and his longtime girlfriend Anna Ebe... 2018-05-26  \n",
       "3  The actor gives Dems an ass-kicking for not fi... 2018-05-26  \n",
       "4  The \"Dietland\" actress said using the bags is ... 2018-05-26  "
      ]
     },
     "execution_count": 3,
     "metadata": {},
     "output_type": "execute_result"
    }
   ],
   "source": [
    "df = pd.read_json('/kaggle/input/news-category-dataset/News_Category_Dataset_v2.json', lines = True)\n",
    "df.head()"
   ]
  },
  {
   "cell_type": "code",
   "execution_count": 4,
   "metadata": {
    "execution": {
     "iopub.execute_input": "2020-11-28T08:42:19.407420Z",
     "iopub.status.busy": "2020-11-28T08:42:19.403678Z",
     "iopub.status.idle": "2020-11-28T08:42:19.505532Z",
     "shell.execute_reply": "2020-11-28T08:42:19.506166Z"
    },
    "papermill": {
     "duration": 0.138224,
     "end_time": "2020-11-28T08:42:19.506354",
     "exception": false,
     "start_time": "2020-11-28T08:42:19.368130",
     "status": "completed"
    },
    "tags": []
   },
   "outputs": [],
   "source": [
    "# WORLDPOST and THE WORLDPOST were given as two separate categories in the dataset. Here I change the category THE WORLDPOST to WORLDPOST \n",
    "df.category = df.category.map(lambda x: \"WORLDPOST\" if x == \"THE WORLDPOST\" else x)"
   ]
  },
  {
   "cell_type": "code",
   "execution_count": 5,
   "metadata": {
    "execution": {
     "iopub.execute_input": "2020-11-28T08:42:19.593468Z",
     "iopub.status.busy": "2020-11-28T08:42:19.592659Z",
     "iopub.status.idle": "2020-11-28T08:42:19.615784Z",
     "shell.execute_reply": "2020-11-28T08:42:19.615019Z"
    },
    "papermill": {
     "duration": 0.078968,
     "end_time": "2020-11-28T08:42:19.615907",
     "exception": false,
     "start_time": "2020-11-28T08:42:19.536939",
     "status": "completed"
    },
    "tags": []
   },
   "outputs": [
    {
     "name": "stdout",
     "output_type": "stream",
     "text": [
      "The dataset contains 40 unique categories\n"
     ]
    }
   ],
   "source": [
    "print(f\"The dataset contains { df.category.nunique() } unique categories\")"
   ]
  },
  {
   "cell_type": "code",
   "execution_count": 6,
   "metadata": {
    "execution": {
     "iopub.execute_input": "2020-11-28T08:42:19.722028Z",
     "iopub.status.busy": "2020-11-28T08:42:19.716775Z",
     "iopub.status.idle": "2020-11-28T08:42:19.795511Z",
     "shell.execute_reply": "2020-11-28T08:42:19.794667Z"
    },
    "papermill": {
     "duration": 0.148958,
     "end_time": "2020-11-28T08:42:19.795641",
     "exception": false,
     "start_time": "2020-11-28T08:42:19.646683",
     "status": "completed"
    },
    "tags": []
   },
   "outputs": [],
   "source": [
    "#label encoding the categories. After this each category would be mapped to an integer.\n",
    "encoder = LabelEncoder()\n",
    "df['categoryEncoded'] = encoder.fit_transform(df['category'])"
   ]
  },
  {
   "cell_type": "code",
   "execution_count": 7,
   "metadata": {
    "execution": {
     "iopub.execute_input": "2020-11-28T08:42:19.866004Z",
     "iopub.status.busy": "2020-11-28T08:42:19.864623Z",
     "iopub.status.idle": "2020-11-28T08:42:20.229327Z",
     "shell.execute_reply": "2020-11-28T08:42:20.229893Z"
    },
    "papermill": {
     "duration": 0.403308,
     "end_time": "2020-11-28T08:42:20.230074",
     "exception": false,
     "start_time": "2020-11-28T08:42:19.826766",
     "status": "completed"
    },
    "tags": []
   },
   "outputs": [],
   "source": [
    "#since I am using bert-large-uncased as the model, I am converting each of the news headlines and descriptions into lower case.\n",
    "df['headline'] = df['headline'].apply(lambda headline: str(headline).lower())\n",
    "df['short_description'] = df['short_description'].apply(lambda descr: str(descr).lower())"
   ]
  },
  {
   "cell_type": "code",
   "execution_count": 8,
   "metadata": {
    "execution": {
     "iopub.execute_input": "2020-11-28T08:42:20.303946Z",
     "iopub.status.busy": "2020-11-28T08:42:20.300364Z",
     "iopub.status.idle": "2020-11-28T08:42:21.194980Z",
     "shell.execute_reply": "2020-11-28T08:42:21.194172Z"
    },
    "papermill": {
     "duration": 0.933615,
     "end_time": "2020-11-28T08:42:21.195137",
     "exception": false,
     "start_time": "2020-11-28T08:42:20.261522",
     "status": "completed"
    },
    "tags": []
   },
   "outputs": [],
   "source": [
    "#calculating the length of headlines and descriptions\n",
    "df['descr_len'] = df['short_description'].apply(lambda x: len(str(x).split()))\n",
    "df['headline_len'] = df['headline'].apply(lambda x: len(str(x).split()))"
   ]
  },
  {
   "cell_type": "code",
   "execution_count": 9,
   "metadata": {
    "execution": {
     "iopub.execute_input": "2020-11-28T08:42:21.266544Z",
     "iopub.status.busy": "2020-11-28T08:42:21.265704Z",
     "iopub.status.idle": "2020-11-28T08:42:21.314964Z",
     "shell.execute_reply": "2020-11-28T08:42:21.315599Z"
    },
    "papermill": {
     "duration": 0.088823,
     "end_time": "2020-11-28T08:42:21.315782",
     "exception": false,
     "start_time": "2020-11-28T08:42:21.226959",
     "status": "completed"
    },
    "tags": []
   },
   "outputs": [
    {
     "data": {
      "text/html": [
       "<div>\n",
       "<style scoped>\n",
       "    .dataframe tbody tr th:only-of-type {\n",
       "        vertical-align: middle;\n",
       "    }\n",
       "\n",
       "    .dataframe tbody tr th {\n",
       "        vertical-align: top;\n",
       "    }\n",
       "\n",
       "    .dataframe thead th {\n",
       "        text-align: right;\n",
       "    }\n",
       "</style>\n",
       "<table border=\"1\" class=\"dataframe\">\n",
       "  <thead>\n",
       "    <tr style=\"text-align: right;\">\n",
       "      <th></th>\n",
       "      <th>categoryEncoded</th>\n",
       "      <th>descr_len</th>\n",
       "      <th>headline_len</th>\n",
       "    </tr>\n",
       "  </thead>\n",
       "  <tbody>\n",
       "    <tr>\n",
       "      <th>count</th>\n",
       "      <td>200853.000000</td>\n",
       "      <td>200853.000000</td>\n",
       "      <td>200853.000000</td>\n",
       "    </tr>\n",
       "    <tr>\n",
       "      <th>mean</th>\n",
       "      <td>22.024366</td>\n",
       "      <td>19.728289</td>\n",
       "      <td>9.538563</td>\n",
       "    </tr>\n",
       "    <tr>\n",
       "      <th>std</th>\n",
       "      <td>10.753991</td>\n",
       "      <td>14.409189</td>\n",
       "      <td>3.089320</td>\n",
       "    </tr>\n",
       "    <tr>\n",
       "      <th>min</th>\n",
       "      <td>0.000000</td>\n",
       "      <td>0.000000</td>\n",
       "      <td>0.000000</td>\n",
       "    </tr>\n",
       "    <tr>\n",
       "      <th>25%</th>\n",
       "      <td>13.000000</td>\n",
       "      <td>10.000000</td>\n",
       "      <td>7.000000</td>\n",
       "    </tr>\n",
       "    <tr>\n",
       "      <th>50%</th>\n",
       "      <td>24.000000</td>\n",
       "      <td>19.000000</td>\n",
       "      <td>10.000000</td>\n",
       "    </tr>\n",
       "    <tr>\n",
       "      <th>75%</th>\n",
       "      <td>30.000000</td>\n",
       "      <td>24.000000</td>\n",
       "      <td>12.000000</td>\n",
       "    </tr>\n",
       "    <tr>\n",
       "      <th>max</th>\n",
       "      <td>39.000000</td>\n",
       "      <td>243.000000</td>\n",
       "      <td>44.000000</td>\n",
       "    </tr>\n",
       "  </tbody>\n",
       "</table>\n",
       "</div>"
      ],
      "text/plain": [
       "       categoryEncoded      descr_len   headline_len\n",
       "count    200853.000000  200853.000000  200853.000000\n",
       "mean         22.024366      19.728289       9.538563\n",
       "std          10.753991      14.409189       3.089320\n",
       "min           0.000000       0.000000       0.000000\n",
       "25%          13.000000      10.000000       7.000000\n",
       "50%          24.000000      19.000000      10.000000\n",
       "75%          30.000000      24.000000      12.000000\n",
       "max          39.000000     243.000000      44.000000"
      ]
     },
     "execution_count": 9,
     "metadata": {},
     "output_type": "execute_result"
    }
   ],
   "source": [
    "df.describe()"
   ]
  },
  {
   "cell_type": "code",
   "execution_count": 10,
   "metadata": {
    "_kg_hide-input": true,
    "execution": {
     "iopub.execute_input": "2020-11-28T08:42:21.392041Z",
     "iopub.status.busy": "2020-11-28T08:42:21.391191Z",
     "iopub.status.idle": "2020-11-28T08:42:21.798370Z",
     "shell.execute_reply": "2020-11-28T08:42:21.797590Z"
    },
    "papermill": {
     "duration": 0.445666,
     "end_time": "2020-11-28T08:42:21.798513",
     "exception": false,
     "start_time": "2020-11-28T08:42:21.352847",
     "status": "completed"
    },
    "tags": []
   },
   "outputs": [
    {
     "data": {
      "image/png": "[encoded data removed]",
      "text/plain": [
       "<Figure size 432x288 with 1 Axes>"
      ]
     },
     "metadata": {
      "needs_background": "light"
     },
     "output_type": "display_data"
    }
   ],
   "source": [
    "sns.distplot(df['descr_len'])\n",
    "plt.title('Description Number of Words')\n",
    "plt.show()"
   ]
  },
  {
   "cell_type": "code",
   "execution_count": 11,
   "metadata": {
    "_kg_hide-input": true,
    "execution": {
     "iopub.execute_input": "2020-11-28T08:42:21.891657Z",
     "iopub.status.busy": "2020-11-28T08:42:21.890773Z",
     "iopub.status.idle": "2020-11-28T08:42:22.233570Z",
     "shell.execute_reply": "2020-11-28T08:42:22.232775Z"
    },
    "papermill": {
     "duration": 0.401912,
     "end_time": "2020-11-28T08:42:22.233729",
     "exception": false,
     "start_time": "2020-11-28T08:42:21.831817",
     "status": "completed"
    },
    "tags": []
   },
   "outputs": [
    {
     "data": {
      "image/png": "[encoded data removed]",
      "text/plain": [
       "<Figure size 432x288 with 1 Axes>"
      ]
     },
     "metadata": {
      "needs_background": "light"
     },
     "output_type": "display_data"
    }
   ],
   "source": [
    "sns.distplot(df['headline_len'])\n",
    "plt.title('Headline Number of Words')\n",
    "plt.show()"
   ]
  },
  {
   "cell_type": "markdown",
   "metadata": {
    "papermill": {
     "duration": 0.03597,
     "end_time": "2020-11-28T08:42:22.306720",
     "exception": false,
     "start_time": "2020-11-28T08:42:22.270750",
     "status": "completed"
    },
    "tags": []
   },
   "source": [
    "As we can see, that there are a lot of samples that have a description length of 0, however almost all articles have a headline. Going with the intuition that the headline is often more descriptive of the category of the news, as well as to provide more text data to the model, I add news headlines to the short description and modify the description of the news samples."
   ]
  },
  {
   "cell_type": "code",
   "execution_count": 12,
   "metadata": {
    "execution": {
     "iopub.execute_input": "2020-11-28T08:42:22.384759Z",
     "iopub.status.busy": "2020-11-28T08:42:22.383904Z",
     "iopub.status.idle": "2020-11-28T08:42:22.493247Z",
     "shell.execute_reply": "2020-11-28T08:42:22.492408Z"
    },
    "papermill": {
     "duration": 0.15069,
     "end_time": "2020-11-28T08:42:22.493381",
     "exception": false,
     "start_time": "2020-11-28T08:42:22.342691",
     "status": "completed"
    },
    "tags": []
   },
   "outputs": [],
   "source": [
    "df['short_description'] = df['headline'] + df['short_description']"
   ]
  },
  {
   "cell_type": "code",
   "execution_count": 13,
   "metadata": {
    "_kg_hide-input": true,
    "execution": {
     "iopub.execute_input": "2020-11-28T08:42:22.573092Z",
     "iopub.status.busy": "2020-11-28T08:42:22.571769Z",
     "iopub.status.idle": "2020-11-28T08:42:22.936778Z",
     "shell.execute_reply": "2020-11-28T08:42:22.937370Z"
    },
    "papermill": {
     "duration": 0.408732,
     "end_time": "2020-11-28T08:42:22.937548",
     "exception": false,
     "start_time": "2020-11-28T08:42:22.528816",
     "status": "completed"
    },
    "tags": []
   },
   "outputs": [
    {
     "data": {
      "image/png": "[encoded data removed]",
      "text/plain": [
       "<Figure size 432x288 with 1 Axes>"
      ]
     },
     "metadata": {
      "needs_background": "light"
     },
     "output_type": "display_data"
    }
   ],
   "source": [
    "sns.distplot(df['headline_len'] + df['descr_len'])\n",
    "plt.title('Short Description Number of Words')\n",
    "plt.show()"
   ]
  },
  {
   "cell_type": "markdown",
   "metadata": {
    "papermill": {
     "duration": 0.035626,
     "end_time": "2020-11-28T08:42:23.010079",
     "exception": false,
     "start_time": "2020-11-28T08:42:22.974453",
     "status": "completed"
    },
    "tags": []
   },
   "source": [
    "## Tokenizing\n",
    "\n",
    "* I use the HuggingFace tokenizer for bert to tokenize the given news descriptions. After splitting up the dataset into train and test, we encode both the training data and the testing data. \n",
    "* One more thing to notice is that we truncate the last part of the sentence when encoding it, thus adding the headlines to the front of the description means that our model will always have the headline of the news sample."
   ]
  },
  {
   "cell_type": "code",
   "execution_count": 14,
   "metadata": {
    "_cell_guid": "79c7e3d0-c299-4dcb-8224-4455121ee9b0",
    "_uuid": "d629ff2d2480ee46fbb7e2d37f6b5fab8052498a",
    "execution": {
     "iopub.execute_input": "2020-11-28T08:42:23.093664Z",
     "iopub.status.busy": "2020-11-28T08:42:23.092857Z",
     "iopub.status.idle": "2020-11-28T08:42:23.096054Z",
     "shell.execute_reply": "2020-11-28T08:42:23.095299Z"
    },
    "papermill": {
     "duration": 0.046695,
     "end_time": "2020-11-28T08:42:23.096199",
     "exception": false,
     "start_time": "2020-11-28T08:42:23.049504",
     "status": "completed"
    },
    "tags": []
   },
   "outputs": [],
   "source": [
    "def regular_encode(texts, tokenizer, maxlen=512):\n",
    "    enc_di = tokenizer.batch_encode_plus(\n",
    "        texts, \n",
    "        return_attention_masks=False, \n",
    "        return_token_type_ids=False,\n",
    "        pad_to_max_length=True,\n",
    "        max_length=maxlen\n",
    "    )\n",
    "    \n",
    "    return np.array(enc_di['input_ids'])"
   ]
  },
  {
   "cell_type": "code",
   "execution_count": 15,
   "metadata": {
    "execution": {
     "iopub.execute_input": "2020-11-28T08:42:23.177790Z",
     "iopub.status.busy": "2020-11-28T08:42:23.176958Z",
     "iopub.status.idle": "2020-11-28T08:42:24.569221Z",
     "shell.execute_reply": "2020-11-28T08:42:24.568446Z"
    },
    "papermill": {
     "duration": 1.435608,
     "end_time": "2020-11-28T08:42:24.569353",
     "exception": false,
     "start_time": "2020-11-28T08:42:23.133745",
     "status": "completed"
    },
    "tags": []
   },
   "outputs": [
    {
     "data": {
      "application/vnd.jupyter.widget-view+json": {
       "model_id": "a0a5e24be27f43d6a8c378271cc6fd63",
       "version_major": 2,
       "version_minor": 0
      },
      "text/plain": [
       "HBox(children=(FloatProgress(value=0.0, description='Downloading', max=231508.0, style=ProgressStyle(descripti…"
      ]
     },
     "metadata": {},
     "output_type": "display_data"
    },
    {
     "name": "stdout",
     "output_type": "stream",
     "text": [
      "\n"
     ]
    }
   ],
   "source": [
    "#bert large uncased pretrained tokenizer\n",
    "tokenizer = transformers.BertTokenizer.from_pretrained('bert-large-uncased')"
   ]
  },
  {
   "cell_type": "code",
   "execution_count": 16,
   "metadata": {
    "execution": {
     "iopub.execute_input": "2020-11-28T08:42:24.660868Z",
     "iopub.status.busy": "2020-11-28T08:42:24.654442Z",
     "iopub.status.idle": "2020-11-28T08:42:24.699385Z",
     "shell.execute_reply": "2020-11-28T08:42:24.698523Z"
    },
    "papermill": {
     "duration": 0.090854,
     "end_time": "2020-11-28T08:42:24.699525",
     "exception": false,
     "start_time": "2020-11-28T08:42:24.608671",
     "status": "completed"
    },
    "tags": []
   },
   "outputs": [],
   "source": [
    "X_train,X_test ,y_train,y_test = train_test_split(df['short_description'], df['categoryEncoded'], random_state = 2020, test_size = 0.3)"
   ]
  },
  {
   "cell_type": "code",
   "execution_count": 17,
   "metadata": {
    "execution": {
     "iopub.execute_input": "2020-11-28T08:42:24.832082Z",
     "iopub.status.busy": "2020-11-28T08:42:24.783798Z",
     "iopub.status.idle": "2020-11-28T08:47:14.053040Z",
     "shell.execute_reply": "2020-11-28T08:47:14.052234Z"
    },
    "papermill": {
     "duration": 289.31561,
     "end_time": "2020-11-28T08:47:14.053211",
     "exception": false,
     "start_time": "2020-11-28T08:42:24.737601",
     "status": "completed"
    },
    "tags": []
   },
   "outputs": [],
   "source": [
    "#tokenizing the news descriptions and converting the categories into one hot vectors using tf.keras.utils.to_categorical\n",
    "Xtrain_encoded = regular_encode(X_train.astype('str'), tokenizer, maxlen=80)\n",
    "ytrain_encoded = tf.keras.utils.to_categorical(y_train, num_classes=40,dtype = 'int32')\n",
    "Xtest_encoded = regular_encode(X_test.astype('str'), tokenizer, maxlen=80)\n",
    "ytest_encoded = tf.keras.utils.to_categorical(y_test, num_classes=40,dtype = 'int32')"
   ]
  },
  {
   "cell_type": "markdown",
   "metadata": {
    "papermill": {
     "duration": 0.037461,
     "end_time": "2020-11-28T08:47:14.129310",
     "exception": false,
     "start_time": "2020-11-28T08:47:14.091849",
     "status": "completed"
    },
    "tags": []
   },
   "source": [
    "## Building the model"
   ]
  },
  {
   "cell_type": "code",
   "execution_count": 18,
   "metadata": {
    "execution": {
     "iopub.execute_input": "2020-11-28T08:47:14.216814Z",
     "iopub.status.busy": "2020-11-28T08:47:14.215889Z",
     "iopub.status.idle": "2020-11-28T08:47:14.219006Z",
     "shell.execute_reply": "2020-11-28T08:47:14.218398Z"
    },
    "papermill": {
     "duration": 0.051347,
     "end_time": "2020-11-28T08:47:14.219148",
     "exception": false,
     "start_time": "2020-11-28T08:47:14.167801",
     "status": "completed"
    },
    "tags": []
   },
   "outputs": [],
   "source": [
    "def build_model(transformer, loss='categorical_crossentropy', max_len=512):\n",
    "    input_word_ids = tf.keras.layers.Input(shape=(max_len,), dtype=tf.int32, name=\"input_word_ids\")\n",
    "    sequence_output = transformer(input_word_ids)[0]\n",
    "    cls_token = sequence_output[:, 0, :]\n",
    "    #adding dropout layer\n",
    "    x = tf.keras.layers.Dropout(0.3)(cls_token)\n",
    "    #using a dense layer of 40 neurons as the number of unique categories is 40. \n",
    "    out = tf.keras.layers.Dense(40, activation='softmax')(x)\n",
    "    model = tf.keras.Model(inputs=input_word_ids, outputs=out)\n",
    "    #using categorical crossentropy as the loss as it is a multi-class classification problem\n",
    "    model.compile(tf.keras.optimizers.Adam(lr=3e-5), loss=loss, metrics=['accuracy'])\n",
    "    return model"
   ]
  },
  {
   "cell_type": "code",
   "execution_count": 19,
   "metadata": {
    "execution": {
     "iopub.execute_input": "2020-11-28T08:47:14.302700Z",
     "iopub.status.busy": "2020-11-28T08:47:14.301639Z",
     "iopub.status.idle": "2020-11-28T08:48:42.416739Z",
     "shell.execute_reply": "2020-11-28T08:48:42.417633Z"
    },
    "papermill": {
     "duration": 88.160239,
     "end_time": "2020-11-28T08:48:42.417891",
     "exception": false,
     "start_time": "2020-11-28T08:47:14.257652",
     "status": "completed"
    },
    "tags": []
   },
   "outputs": [
    {
     "data": {
      "application/vnd.jupyter.widget-view+json": {
       "model_id": "34f733ae35764d7a8fbb734c0519e477",
       "version_major": 2,
       "version_minor": 0
      },
      "text/plain": [
       "HBox(children=(FloatProgress(value=0.0, description='Downloading', max=434.0, style=ProgressStyle(description_…"
      ]
     },
     "metadata": {},
     "output_type": "display_data"
    },
    {
     "name": "stdout",
     "output_type": "stream",
     "text": [
      "\n"
     ]
    },
    {
     "data": {
      "application/vnd.jupyter.widget-view+json": {
       "model_id": "c51d5514f5c84a52b35a2d4d37fbd4a4",
       "version_major": 2,
       "version_minor": 0
      },
      "text/plain": [
       "HBox(children=(FloatProgress(value=0.0, description='Downloading', max=1472569832.0, style=ProgressStyle(descr…"
      ]
     },
     "metadata": {},
     "output_type": "display_data"
    },
    {
     "name": "stdout",
     "output_type": "stream",
     "text": [
      "\n",
      "Model: \"model\"\n",
      "_________________________________________________________________\n",
      "Layer (type)                 Output Shape              Param #   \n",
      "=================================================================\n",
      "input_word_ids (InputLayer)  [(None, 80)]              0         \n",
      "_________________________________________________________________\n",
      "tf_bert_model (TFBertModel)  ((None, 80, 1024), (None, 335141888 \n",
      "_________________________________________________________________\n",
      "tf_op_layer_strided_slice (T [(None, 1024)]            0         \n",
      "_________________________________________________________________\n",
      "dropout_73 (Dropout)         (None, 1024)              0         \n",
      "_________________________________________________________________\n",
      "dense (Dense)                (None, 40)                41000     \n",
      "=================================================================\n",
      "Total params: 335,182,888\n",
      "Trainable params: 335,182,888\n",
      "Non-trainable params: 0\n",
      "_________________________________________________________________\n"
     ]
    }
   ],
   "source": [
    "#building the model on tpu\n",
    "with strategy.scope():\n",
    "    transformer_layer = transformers.TFAutoModel.from_pretrained('bert-large-uncased')\n",
    "    model = build_model(transformer_layer, max_len=80)\n",
    "model.summary()"
   ]
  },
  {
   "cell_type": "markdown",
   "metadata": {
    "papermill": {
     "duration": 0.039836,
     "end_time": "2020-11-28T08:48:42.498564",
     "exception": false,
     "start_time": "2020-11-28T08:48:42.458728",
     "status": "completed"
    },
    "tags": []
   },
   "source": [
    "## Training"
   ]
  },
  {
   "cell_type": "code",
   "execution_count": 20,
   "metadata": {
    "execution": {
     "iopub.execute_input": "2020-11-28T08:48:42.673720Z",
     "iopub.status.busy": "2020-11-28T08:48:42.672542Z",
     "iopub.status.idle": "2020-11-28T08:48:43.017942Z",
     "shell.execute_reply": "2020-11-28T08:48:43.018535Z"
    },
    "papermill": {
     "duration": 0.480015,
     "end_time": "2020-11-28T08:48:43.018711",
     "exception": false,
     "start_time": "2020-11-28T08:48:42.538696",
     "status": "completed"
    },
    "tags": []
   },
   "outputs": [],
   "source": [
    "#creating the training and testing dataset.\n",
    "BATCH_SIZE = 32*strategy.num_replicas_in_sync\n",
    "AUTO = tf.data.experimental.AUTOTUNE \n",
    "train_dataset = (\n",
    "    tf.data.Dataset\n",
    "    .from_tensor_slices((Xtrain_encoded, ytrain_encoded))\n",
    "    .repeat()\n",
    "    .shuffle(2048)\n",
    "    .batch(BATCH_SIZE)\n",
    "    .prefetch(AUTO)\n",
    ")\n",
    "test_dataset = (\n",
    "    tf.data.Dataset\n",
    "    .from_tensor_slices(Xtest_encoded)\n",
    "    .batch(BATCH_SIZE)\n",
    ")"
   ]
  },
  {
   "cell_type": "code",
   "execution_count": 21,
   "metadata": {
    "execution": {
     "iopub.execute_input": "2020-11-28T08:48:43.121399Z",
     "iopub.status.busy": "2020-11-28T08:48:43.120475Z",
     "iopub.status.idle": "2020-11-28T09:22:19.751013Z",
     "shell.execute_reply": "2020-11-28T09:22:19.750005Z"
    },
    "papermill": {
     "duration": 2016.69139,
     "end_time": "2020-11-28T09:22:19.751219",
     "exception": false,
     "start_time": "2020-11-28T08:48:43.059829",
     "status": "completed"
    },
    "tags": []
   },
   "outputs": [
    {
     "name": "stdout",
     "output_type": "stream",
     "text": [
      "Epoch 1/10\n",
      "549/549 [==============================] - 183s 333ms/step - loss: 1.3580 - accuracy: 0.6216\n",
      "Epoch 2/10\n",
      "549/549 [==============================] - 183s 333ms/step - loss: 0.9333 - accuracy: 0.7186\n",
      "Epoch 3/10\n",
      "549/549 [==============================] - 183s 333ms/step - loss: 0.7353 - accuracy: 0.7724\n",
      "Epoch 4/10\n",
      "549/549 [==============================] - 183s 333ms/step - loss: 0.5707 - accuracy: 0.8191\n",
      "Epoch 5/10\n",
      "549/549 [==============================] - 182s 332ms/step - loss: 0.4123 - accuracy: 0.8666\n",
      "Epoch 6/10\n",
      "549/549 [==============================] - 183s 333ms/step - loss: 0.2850 - accuracy: 0.9061\n",
      "Epoch 7/10\n",
      "549/549 [==============================] - 183s 333ms/step - loss: 0.1912 - accuracy: 0.9364\n",
      "Epoch 8/10\n",
      "549/549 [==============================] - 183s 332ms/step - loss: 0.1332 - accuracy: 0.9548\n",
      "Epoch 9/10\n",
      "549/549 [==============================] - 183s 333ms/step - loss: 0.1025 - accuracy: 0.9656\n",
      "Epoch 10/10\n",
      "549/549 [==============================] - 183s 333ms/step - loss: 0.0788 - accuracy: 0.9739\n"
     ]
    }
   ],
   "source": [
    "#training for 10 epochs\n",
    "n_steps = Xtrain_encoded.shape[0] // BATCH_SIZE\n",
    "train_history = model.fit(\n",
    "    train_dataset,\n",
    "    steps_per_epoch=n_steps,\n",
    "    epochs=10\n",
    ")"
   ]
  },
  {
   "cell_type": "markdown",
   "metadata": {
    "papermill": {
     "duration": 2.238018,
     "end_time": "2020-11-28T09:22:24.243488",
     "exception": false,
     "start_time": "2020-11-28T09:22:22.005470",
     "status": "completed"
    },
    "tags": []
   },
   "source": [
    "## Evaluation"
   ]
  },
  {
   "cell_type": "code",
   "execution_count": 22,
   "metadata": {
    "execution": {
     "iopub.execute_input": "2020-11-28T09:22:28.848203Z",
     "iopub.status.busy": "2020-11-28T09:22:28.847298Z",
     "iopub.status.idle": "2020-11-28T09:23:56.883991Z",
     "shell.execute_reply": "2020-11-28T09:23:56.883039Z"
    },
    "papermill": {
     "duration": 90.338287,
     "end_time": "2020-11-28T09:23:56.884188",
     "exception": false,
     "start_time": "2020-11-28T09:22:26.545901",
     "status": "completed"
    },
    "tags": []
   },
   "outputs": [
    {
     "name": "stdout",
     "output_type": "stream",
     "text": [
      "236/236 [==============================] - 43s 183ms/step\n"
     ]
    }
   ],
   "source": [
    "#making predictions\n",
    "preds = model.predict(test_dataset,verbose = 1)\n",
    "#converting the one hot vector output to a linear numpy array.\n",
    "pred_classes = np.argmax(preds, axis = 1)"
   ]
  },
  {
   "cell_type": "code",
   "execution_count": 23,
   "metadata": {
    "execution": {
     "iopub.execute_input": "2020-11-28T09:24:01.703231Z",
     "iopub.status.busy": "2020-11-28T09:24:01.687634Z",
     "iopub.status.idle": "2020-11-28T09:24:01.735383Z",
     "shell.execute_reply": "2020-11-28T09:24:01.736014Z"
    },
    "papermill": {
     "duration": 2.483315,
     "end_time": "2020-11-28T09:24:01.736197",
     "exception": false,
     "start_time": "2020-11-28T09:23:59.252882",
     "status": "completed"
    },
    "tags": []
   },
   "outputs": [],
   "source": [
    "#extracting the classes from the label encoder\n",
    "encoded_classes = encoder.classes_\n",
    "#mapping the encoded output to actual categories\n",
    "predicted_category = [encoded_classes[x] for x in pred_classes]\n",
    "true_category = [encoded_classes[x] for x in y_test]"
   ]
  },
  {
   "cell_type": "code",
   "execution_count": 24,
   "metadata": {
    "execution": {
     "iopub.execute_input": "2020-11-28T09:24:06.460122Z",
     "iopub.status.busy": "2020-11-28T09:24:06.454836Z",
     "iopub.status.idle": "2020-11-28T09:24:06.479633Z",
     "shell.execute_reply": "2020-11-28T09:24:06.478845Z"
    },
    "papermill": {
     "duration": 2.403403,
     "end_time": "2020-11-28T09:24:06.479763",
     "exception": false,
     "start_time": "2020-11-28T09:24:04.076360",
     "status": "completed"
    },
    "tags": []
   },
   "outputs": [
    {
     "data": {
      "text/html": [
       "<div>\n",
       "<style scoped>\n",
       "    .dataframe tbody tr th:only-of-type {\n",
       "        vertical-align: middle;\n",
       "    }\n",
       "\n",
       "    .dataframe tbody tr th {\n",
       "        vertical-align: top;\n",
       "    }\n",
       "\n",
       "    .dataframe thead th {\n",
       "        text-align: right;\n",
       "    }\n",
       "</style>\n",
       "<table border=\"1\" class=\"dataframe\">\n",
       "  <thead>\n",
       "    <tr style=\"text-align: right;\">\n",
       "      <th></th>\n",
       "      <th>description</th>\n",
       "      <th>true_category</th>\n",
       "      <th>predicted_category</th>\n",
       "    </tr>\n",
       "  </thead>\n",
       "  <tbody>\n",
       "    <tr>\n",
       "      <th>75589</th>\n",
       "      <td>huffpost rise morning newsbrief, november 4wel...</td>\n",
       "      <td>POLITICS</td>\n",
       "      <td>POLITICS</td>\n",
       "    </tr>\n",
       "    <tr>\n",
       "      <th>21665</th>\n",
       "      <td>donald trump's lawyer claims president was nev...</td>\n",
       "      <td>POLITICS</td>\n",
       "      <td>POLITICS</td>\n",
       "    </tr>\n",
       "    <tr>\n",
       "      <th>51481</th>\n",
       "      <td>the feminist comic series for fans of 'strange...</td>\n",
       "      <td>ARTS &amp; CULTURE</td>\n",
       "      <td>ARTS &amp; CULTURE</td>\n",
       "    </tr>\n",
       "    <tr>\n",
       "      <th>20578</th>\n",
       "      <td>obamacare repeal moves ahead with key senate v...</td>\n",
       "      <td>POLITICS</td>\n",
       "      <td>POLITICS</td>\n",
       "    </tr>\n",
       "    <tr>\n",
       "      <th>58445</th>\n",
       "      <td>mount holyoke commencement speaker thanks acti...</td>\n",
       "      <td>COLLEGE</td>\n",
       "      <td>BLACK VOICES</td>\n",
       "    </tr>\n",
       "  </tbody>\n",
       "</table>\n",
       "</div>"
      ],
      "text/plain": [
       "                                             description   true_category  \\\n",
       "75589  huffpost rise morning newsbrief, november 4wel...        POLITICS   \n",
       "21665  donald trump's lawyer claims president was nev...        POLITICS   \n",
       "51481  the feminist comic series for fans of 'strange...  ARTS & CULTURE   \n",
       "20578  obamacare repeal moves ahead with key senate v...        POLITICS   \n",
       "58445  mount holyoke commencement speaker thanks acti...         COLLEGE   \n",
       "\n",
       "      predicted_category  \n",
       "75589           POLITICS  \n",
       "21665           POLITICS  \n",
       "51481     ARTS & CULTURE  \n",
       "20578           POLITICS  \n",
       "58445       BLACK VOICES  "
      ]
     },
     "execution_count": 24,
     "metadata": {},
     "output_type": "execute_result"
    }
   ],
   "source": [
    "result_df = pd.DataFrame({'description':X_test,'true_category':true_category, 'predicted_category':predicted_category})\n",
    "result_df.head()"
   ]
  },
  {
   "cell_type": "code",
   "execution_count": 25,
   "metadata": {
    "execution": {
     "iopub.execute_input": "2020-11-28T09:24:11.355882Z",
     "iopub.status.busy": "2020-11-28T09:24:11.279199Z",
     "iopub.status.idle": "2020-11-28T09:24:11.360603Z",
     "shell.execute_reply": "2020-11-28T09:24:11.359799Z"
    },
    "papermill": {
     "duration": 2.558097,
     "end_time": "2020-11-28T09:24:11.360731",
     "exception": false,
     "start_time": "2020-11-28T09:24:08.802634",
     "status": "completed"
    },
    "tags": []
   },
   "outputs": [
    {
     "name": "stdout",
     "output_type": "stream",
     "text": [
      "Accuracy is 0.7045273499734467\n"
     ]
    }
   ],
   "source": [
    "print(f\"Accuracy is {sklearn.metrics.accuracy_score(result_df['true_category'], result_df['predicted_category'])}\")"
   ]
  },
  {
   "cell_type": "code",
   "execution_count": 26,
   "metadata": {
    "execution": {
     "iopub.execute_input": "2020-11-28T09:24:16.098722Z",
     "iopub.status.busy": "2020-11-28T09:24:16.097937Z",
     "iopub.status.idle": "2020-11-28T09:24:16.773963Z",
     "shell.execute_reply": "2020-11-28T09:24:16.773322Z"
    },
    "papermill": {
     "duration": 3.059207,
     "end_time": "2020-11-28T09:24:16.774134",
     "exception": false,
     "start_time": "2020-11-28T09:24:13.714927",
     "status": "completed"
    },
    "tags": []
   },
   "outputs": [],
   "source": [
    "result_df.to_csv('testPredictions.csv', index = False)"
   ]
  },
  {
   "cell_type": "markdown",
   "metadata": {
    "papermill": {
     "duration": 2.331065,
     "end_time": "2020-11-28T09:24:21.436950",
     "exception": false,
     "start_time": "2020-11-28T09:24:19.105885",
     "status": "completed"
    },
    "tags": []
   },
   "source": [
    "## Confusion Matrix"
   ]
  },
  {
   "cell_type": "code",
   "execution_count": 27,
   "metadata": {
    "execution": {
     "iopub.execute_input": "2020-11-28T09:24:26.185715Z",
     "iopub.status.busy": "2020-11-28T09:24:26.184642Z",
     "iopub.status.idle": "2020-11-28T09:24:26.202311Z",
     "shell.execute_reply": "2020-11-28T09:24:26.201702Z"
    },
    "papermill": {
     "duration": 2.376485,
     "end_time": "2020-11-28T09:24:26.202448",
     "exception": false,
     "start_time": "2020-11-28T09:24:23.825963",
     "status": "completed"
    },
    "tags": []
   },
   "outputs": [
    {
     "data": {
      "text/html": [
       "<div>\n",
       "<style scoped>\n",
       "    .dataframe tbody tr th:only-of-type {\n",
       "        vertical-align: middle;\n",
       "    }\n",
       "\n",
       "    .dataframe tbody tr th {\n",
       "        vertical-align: top;\n",
       "    }\n",
       "\n",
       "    .dataframe thead th {\n",
       "        text-align: right;\n",
       "    }\n",
       "</style>\n",
       "<table border=\"1\" class=\"dataframe\">\n",
       "  <thead>\n",
       "    <tr style=\"text-align: right;\">\n",
       "      <th></th>\n",
       "      <th>description</th>\n",
       "      <th>true_category</th>\n",
       "      <th>predicted_category</th>\n",
       "    </tr>\n",
       "  </thead>\n",
       "  <tbody>\n",
       "    <tr>\n",
       "      <th>58445</th>\n",
       "      <td>mount holyoke commencement speaker thanks acti...</td>\n",
       "      <td>COLLEGE</td>\n",
       "      <td>BLACK VOICES</td>\n",
       "    </tr>\n",
       "    <tr>\n",
       "      <th>25864</th>\n",
       "      <td>manchester blood banks receive 'overwhelming' ...</td>\n",
       "      <td>WORLDPOST</td>\n",
       "      <td>WORLD NEWS</td>\n",
       "    </tr>\n",
       "    <tr>\n",
       "      <th>112055</th>\n",
       "      <td>standing tall for native american dayan unprec...</td>\n",
       "      <td>MEDIA</td>\n",
       "      <td>POLITICS</td>\n",
       "    </tr>\n",
       "    <tr>\n",
       "      <th>191946</th>\n",
       "      <td>something very cool happened to my friendsmoth...</td>\n",
       "      <td>PARENTING</td>\n",
       "      <td>WOMEN</td>\n",
       "    </tr>\n",
       "    <tr>\n",
       "      <th>136803</th>\n",
       "      <td>it is never too late to have a happy adulthood...</td>\n",
       "      <td>WELLNESS</td>\n",
       "      <td>PARENTING</td>\n",
       "    </tr>\n",
       "    <tr>\n",
       "      <th>...</th>\n",
       "      <td>...</td>\n",
       "      <td>...</td>\n",
       "      <td>...</td>\n",
       "    </tr>\n",
       "    <tr>\n",
       "      <th>2844</th>\n",
       "      <td>there's one letter in the alphabet that almost...</td>\n",
       "      <td>SCIENCE</td>\n",
       "      <td>COMEDY</td>\n",
       "    </tr>\n",
       "    <tr>\n",
       "      <th>119546</th>\n",
       "      <td>hundreds of toddlers said to be taken into cus...</td>\n",
       "      <td>LATINO VOICES</td>\n",
       "      <td>POLITICS</td>\n",
       "    </tr>\n",
       "    <tr>\n",
       "      <th>9725</th>\n",
       "      <td>traveling ethiopia taught me to appreciate its...</td>\n",
       "      <td>BLACK VOICES</td>\n",
       "      <td>TRAVEL</td>\n",
       "    </tr>\n",
       "    <tr>\n",
       "      <th>57660</th>\n",
       "      <td>spoof gum commercial chews away at islamophobi...</td>\n",
       "      <td>RELIGION</td>\n",
       "      <td>COMEDY</td>\n",
       "    </tr>\n",
       "    <tr>\n",
       "      <th>65368</th>\n",
       "      <td>it's not just white people: heroin overdose de...</td>\n",
       "      <td>POLITICS</td>\n",
       "      <td>HEALTHY LIVING</td>\n",
       "    </tr>\n",
       "  </tbody>\n",
       "</table>\n",
       "<p>17804 rows × 3 columns</p>\n",
       "</div>"
      ],
      "text/plain": [
       "                                              description  true_category  \\\n",
       "58445   mount holyoke commencement speaker thanks acti...        COLLEGE   \n",
       "25864   manchester blood banks receive 'overwhelming' ...      WORLDPOST   \n",
       "112055  standing tall for native american dayan unprec...          MEDIA   \n",
       "191946  something very cool happened to my friendsmoth...      PARENTING   \n",
       "136803  it is never too late to have a happy adulthood...       WELLNESS   \n",
       "...                                                   ...            ...   \n",
       "2844    there's one letter in the alphabet that almost...        SCIENCE   \n",
       "119546  hundreds of toddlers said to be taken into cus...  LATINO VOICES   \n",
       "9725    traveling ethiopia taught me to appreciate its...   BLACK VOICES   \n",
       "57660   spoof gum commercial chews away at islamophobi...       RELIGION   \n",
       "65368   it's not just white people: heroin overdose de...       POLITICS   \n",
       "\n",
       "       predicted_category  \n",
       "58445        BLACK VOICES  \n",
       "25864          WORLD NEWS  \n",
       "112055           POLITICS  \n",
       "191946              WOMEN  \n",
       "136803          PARENTING  \n",
       "...                   ...  \n",
       "2844               COMEDY  \n",
       "119546           POLITICS  \n",
       "9725               TRAVEL  \n",
       "57660              COMEDY  \n",
       "65368      HEALTHY LIVING  \n",
       "\n",
       "[17804 rows x 3 columns]"
      ]
     },
     "execution_count": 27,
     "metadata": {},
     "output_type": "execute_result"
    }
   ],
   "source": [
    "result_df[result_df['true_category']!=result_df['predicted_category']]"
   ]
  },
  {
   "cell_type": "code",
   "execution_count": 28,
   "metadata": {
    "execution": {
     "iopub.execute_input": "2020-11-28T09:24:30.986126Z",
     "iopub.status.busy": "2020-11-28T09:24:30.985256Z",
     "iopub.status.idle": "2020-11-28T09:24:31.228997Z",
     "shell.execute_reply": "2020-11-28T09:24:31.228333Z"
    },
    "papermill": {
     "duration": 2.588349,
     "end_time": "2020-11-28T09:24:31.229169",
     "exception": false,
     "start_time": "2020-11-28T09:24:28.640820",
     "status": "completed"
    },
    "tags": []
   },
   "outputs": [],
   "source": [
    "confusion_mat = confusion_matrix(y_true = true_category, y_pred = predicted_category, labels=list(encoded_classes))"
   ]
  },
  {
   "cell_type": "code",
   "execution_count": 29,
   "metadata": {
    "execution": {
     "iopub.execute_input": "2020-11-28T09:24:35.988880Z",
     "iopub.status.busy": "2020-11-28T09:24:35.987719Z",
     "iopub.status.idle": "2020-11-28T09:24:37.016198Z",
     "shell.execute_reply": "2020-11-28T09:24:37.015495Z"
    },
    "papermill": {
     "duration": 3.399441,
     "end_time": "2020-11-28T09:24:37.016330",
     "exception": false,
     "start_time": "2020-11-28T09:24:33.616889",
     "status": "completed"
    },
    "tags": []
   },
   "outputs": [
    {
     "data": {
      "text/plain": [
       "<matplotlib.axes._subplots.AxesSubplot at 0x7f2a946af9d0>"
      ]
     },
     "execution_count": 29,
     "metadata": {},
     "output_type": "execute_result"
    },
    {
     "data": {
      "image/png": "[encoded data removed]",
      "text/plain": [
       "<Figure size 1440x1440 with 2 Axes>"
      ]
     },
     "metadata": {
      "needs_background": "light"
     },
     "output_type": "display_data"
    }
   ],
   "source": [
    "df_cm = pd.DataFrame(confusion_mat, index = list(encoded_classes),columns = list(encoded_classes))\n",
    "plt.rcParams['figure.figsize'] = (20,20)\n",
    "sns.heatmap(df_cm)"
   ]
  }
 ],
 "metadata": {
  "kernelspec": {
   "display_name": "Python 3",
   "language": "python",
   "name": "python3"
  },
  "language_info": {
   "codemirror_mode": {
    "name": "ipython",
    "version": 3
   },
   "file_extension": ".py",
   "mimetype": "text/x-python",
   "name": "python",
   "nbconvert_exporter": "python",
   "pygments_lexer": "ipython3",
   "version": "3.7.6"
  },
  "papermill": {
   "duration": 2562.365197,
   "end_time": "2020-11-28T09:24:39.511805",
   "environment_variables": {},
   "exception": null,
   "input_path": "__notebook__.ipynb",
   "output_path": "__notebook__.ipynb",
   "parameters": {},
   "start_time": "2020-11-28T08:41:57.146608",
   "version": "2.1.0"
  },
  "widgets": {
   "application/vnd.jupyter.widget-state+json": {
    "state": {
     "10bcce5582ee4cc19ffca42002fd740b": {
      "model_module": "@jupyter-widgets/base",
      "model_module_version": "1.2.0",
      "model_name": "LayoutModel",
      "state": {
       "_model_module": "@jupyter-widgets/base",
       "_model_module_version": "1.2.0",
       "_model_name": "LayoutModel",
       "_view_count": null,
       "_view_module": "@jupyter-widgets/base",
       "_view_module_version": "1.2.0",
       "_view_name": "LayoutView",
       "align_content": null,
       "align_items": null,
       "align_self": null,
       "border": null,
       "bottom": null,
       "display": null,
       "flex": null,
       "flex_flow": null,
       "grid_area": null,
       "grid_auto_columns": null,
       "grid_auto_flow": null,
       "grid_auto_rows": null,
       "grid_column": null,
       "grid_gap": null,
       "grid_row": null,
       "grid_template_areas": null,
       "grid_template_columns": null,
       "grid_template_rows": null,
       "height": null,
       "justify_content": null,
       "justify_items": null,
       "left": null,
       "margin": null,
       "max_height": null,
       "max_width": null,
       "min_height": null,
       "min_width": null,
       "object_fit": null,
       "object_position": null,
       "order": null,
       "overflow": null,
       "overflow_x": null,
       "overflow_y": null,
       "padding": null,
       "right": null,
       "top": null,
       "visibility": null,
       "width": null
      }
     },
     "1357fa644794432b93dcf28787ad7965": {
      "model_module": "@jupyter-widgets/controls",
      "model_module_version": "1.5.0",
      "model_name": "DescriptionStyleModel",
      "state": {
       "_model_module": "@jupyter-widgets/controls",
       "_model_module_version": "1.5.0",
       "_model_name": "DescriptionStyleModel",
       "_view_count": null,
       "_view_module": "@jupyter-widgets/base",
       "_view_module_version": "1.2.0",
       "_view_name": "StyleView",
       "description_width": ""
      }
     },
     "14f0a61817404331b3d97dec43e43121": {
      "model_module": "@jupyter-widgets/controls",
      "model_module_version": "1.5.0",
      "model_name": "DescriptionStyleModel",
      "state": {
       "_model_module": "@jupyter-widgets/controls",
       "_model_module_version": "1.5.0",
       "_model_name": "DescriptionStyleModel",
       "_view_count": null,
       "_view_module": "@jupyter-widgets/base",
       "_view_module_version": "1.2.0",
       "_view_name": "StyleView",
       "description_width": ""
      }
     },
     "158311bc6a4c42e1ba7446790199bae2": {
      "model_module": "@jupyter-widgets/controls",
      "model_module_version": "1.5.0",
      "model_name": "HTMLModel",
      "state": {
       "_dom_classes": [],
       "_model_module": "@jupyter-widgets/controls",
       "_model_module_version": "1.5.0",
       "_model_name": "HTMLModel",
       "_view_count": null,
       "_view_module": "@jupyter-widgets/controls",
       "_view_module_version": "1.5.0",
       "_view_name": "HTMLView",
       "description": "",
       "description_tooltip": null,
       "layout": "IPY_MODEL_3b0a215c7f8049c6a4a4b65fb59c1906",
       "placeholder": "​",
       "style": "IPY_MODEL_bab3a57a17a44d1c850054909113fcec",
       "value": " 1.47G/1.47G [00:46&lt;00:00, 31.4MB/s]"
      }
     },
     "176aa1f789e849ee930528316b07c121": {
      "model_module": "@jupyter-widgets/controls",
      "model_module_version": "1.5.0",
      "model_name": "FloatProgressModel",
      "state": {
       "_dom_classes": [],
       "_model_module": "@jupyter-widgets/controls",
       "_model_module_version": "1.5.0",
       "_model_name": "FloatProgressModel",
       "_view_count": null,
       "_view_module": "@jupyter-widgets/controls",
       "_view_module_version": "1.5.0",
       "_view_name": "ProgressView",
       "bar_style": "success",
       "description": "Downloading: 100%",
       "description_tooltip": null,
       "layout": "IPY_MODEL_302b7e20b49e40a6bf3b90e807b5ce52",
       "max": 434.0,
       "min": 0.0,
       "orientation": "horizontal",
       "style": "IPY_MODEL_720a19b7c38f416a93883a4807a5a4ba",
       "value": 434.0
      }
     },
     "1d9b991a0ce24116822eb709422ac3d2": {
      "model_module": "@jupyter-widgets/base",
      "model_module_version": "1.2.0",
      "model_name": "LayoutModel",
      "state": {
       "_model_module": "@jupyter-widgets/base",
       "_model_module_version": "1.2.0",
       "_model_name": "LayoutModel",
       "_view_count": null,
       "_view_module": "@jupyter-widgets/base",
       "_view_module_version": "1.2.0",
       "_view_name": "LayoutView",
       "align_content": null,
       "align_items": null,
       "align_self": null,
       "border": null,
       "bottom": null,
       "display": null,
       "flex": null,
       "flex_flow": null,
       "grid_area": null,
       "grid_auto_columns": null,
       "grid_auto_flow": null,
       "grid_auto_rows": null,
       "grid_column": null,
       "grid_gap": null,
       "grid_row": null,
       "grid_template_areas": null,
       "grid_template_columns": null,
       "grid_template_rows": null,
       "height": null,
       "justify_content": null,
       "justify_items": null,
       "left": null,
       "margin": null,
       "max_height": null,
       "max_width": null,
       "min_height": null,
       "min_width": null,
       "object_fit": null,
       "object_position": null,
       "order": null,
       "overflow": null,
       "overflow_x": null,
       "overflow_y": null,
       "padding": null,
       "right": null,
       "top": null,
       "visibility": null,
       "width": null
      }
     },
     "21cb696bdfd741348c92dafc3143ab99": {
      "model_module": "@jupyter-widgets/controls",
      "model_module_version": "1.5.0",
      "model_name": "ProgressStyleModel",
      "state": {
       "_model_module": "@jupyter-widgets/controls",
       "_model_module_version": "1.5.0",
       "_model_name": "ProgressStyleModel",
       "_view_count": null,
       "_view_module": "@jupyter-widgets/base",
       "_view_module_version": "1.2.0",
       "_view_name": "StyleView",
       "bar_color": null,
       "description_width": "initial"
      }
     },
     "2c7348f365334e89b659657cc627438e": {
      "model_module": "@jupyter-widgets/base",
      "model_module_version": "1.2.0",
      "model_name": "LayoutModel",
      "state": {
       "_model_module": "@jupyter-widgets/base",
       "_model_module_version": "1.2.0",
       "_model_name": "LayoutModel",
       "_view_count": null,
       "_view_module": "@jupyter-widgets/base",
       "_view_module_version": "1.2.0",
       "_view_name": "LayoutView",
       "align_content": null,
       "align_items": null,
       "align_self": null,
       "border": null,
       "bottom": null,
       "display": null,
       "flex": null,
       "flex_flow": null,
       "grid_area": null,
       "grid_auto_columns": null,
       "grid_auto_flow": null,
       "grid_auto_rows": null,
       "grid_column": null,
       "grid_gap": null,
       "grid_row": null,
       "grid_template_areas": null,
       "grid_template_columns": null,
       "grid_template_rows": null,
       "height": null,
       "justify_content": null,
       "justify_items": null,
       "left": null,
       "margin": null,
       "max_height": null,
       "max_width": null,
       "min_height": null,
       "min_width": null,
       "object_fit": null,
       "object_position": null,
       "order": null,
       "overflow": null,
       "overflow_x": null,
       "overflow_y": null,
       "padding": null,
       "right": null,
       "top": null,
       "visibility": null,
       "width": null
      }
     },
     "302b7e20b49e40a6bf3b90e807b5ce52": {
      "model_module": "@jupyter-widgets/base",
      "model_module_version": "1.2.0",
      "model_name": "LayoutModel",
      "state": {
       "_model_module": "@jupyter-widgets/base",
       "_model_module_version": "1.2.0",
       "_model_name": "LayoutModel",
       "_view_count": null,
       "_view_module": "@jupyter-widgets/base",
       "_view_module_version": "1.2.0",
       "_view_name": "LayoutView",
       "align_content": null,
       "align_items": null,
       "align_self": null,
       "border": null,
       "bottom": null,
       "display": null,
       "flex": null,
       "flex_flow": null,
       "grid_area": null,
       "grid_auto_columns": null,
       "grid_auto_flow": null,
       "grid_auto_rows": null,
       "grid_column": null,
       "grid_gap": null,
       "grid_row": null,
       "grid_template_areas": null,
       "grid_template_columns": null,
       "grid_template_rows": null,
       "height": null,
       "justify_content": null,
       "justify_items": null,
       "left": null,
       "margin": null,
       "max_height": null,
       "max_width": null,
       "min_height": null,
       "min_width": null,
       "object_fit": null,
       "object_position": null,
       "order": null,
       "overflow": null,
       "overflow_x": null,
       "overflow_y": null,
       "padding": null,
       "right": null,
       "top": null,
       "visibility": null,
       "width": null
      }
     },
     "34f733ae35764d7a8fbb734c0519e477": {
      "model_module": "@jupyter-widgets/controls",
      "model_module_version": "1.5.0",
      "model_name": "HBoxModel",
      "state": {
       "_dom_classes": [],
       "_model_module": "@jupyter-widgets/controls",
       "_model_module_version": "1.5.0",
       "_model_name": "HBoxModel",
       "_view_count": null,
       "_view_module": "@jupyter-widgets/controls",
       "_view_module_version": "1.5.0",
       "_view_name": "HBoxView",
       "box_style": "",
       "children": [
        "IPY_MODEL_176aa1f789e849ee930528316b07c121",
        "IPY_MODEL_8d5678d4fa7e431c83e2a4faf9ae4205"
       ],
       "layout": "IPY_MODEL_1d9b991a0ce24116822eb709422ac3d2"
      }
     },
     "3b0a215c7f8049c6a4a4b65fb59c1906": {
      "model_module": "@jupyter-widgets/base",
      "model_module_version": "1.2.0",
      "model_name": "LayoutModel",
      "state": {
       "_model_module": "@jupyter-widgets/base",
       "_model_module_version": "1.2.0",
       "_model_name": "LayoutModel",
       "_view_count": null,
       "_view_module": "@jupyter-widgets/base",
       "_view_module_version": "1.2.0",
       "_view_name": "LayoutView",
       "align_content": null,
       "align_items": null,
       "align_self": null,
       "border": null,
       "bottom": null,
       "display": null,
       "flex": null,
       "flex_flow": null,
       "grid_area": null,
       "grid_auto_columns": null,
       "grid_auto_flow": null,
       "grid_auto_rows": null,
       "grid_column": null,
       "grid_gap": null,
       "grid_row": null,
       "grid_template_areas": null,
       "grid_template_columns": null,
       "grid_template_rows": null,
       "height": null,
       "justify_content": null,
       "justify_items": null,
       "left": null,
       "margin": null,
       "max_height": null,
       "max_width": null,
       "min_height": null,
       "min_width": null,
       "object_fit": null,
       "object_position": null,
       "order": null,
       "overflow": null,
       "overflow_x": null,
       "overflow_y": null,
       "padding": null,
       "right": null,
       "top": null,
       "visibility": null,
       "width": null
      }
     },
     "3f789ecff94b4a9da940af5efe047018": {
      "model_module": "@jupyter-widgets/base",
      "model_module_version": "1.2.0",
      "model_name": "LayoutModel",
      "state": {
       "_model_module": "@jupyter-widgets/base",
       "_model_module_version": "1.2.0",
       "_model_name": "LayoutModel",
       "_view_count": null,
       "_view_module": "@jupyter-widgets/base",
       "_view_module_version": "1.2.0",
       "_view_name": "LayoutView",
       "align_content": null,
       "align_items": null,
       "align_self": null,
       "border": null,
       "bottom": null,
       "display": null,
       "flex": null,
       "flex_flow": null,
       "grid_area": null,
       "grid_auto_columns": null,
       "grid_auto_flow": null,
       "grid_auto_rows": null,
       "grid_column": null,
       "grid_gap": null,
       "grid_row": null,
       "grid_template_areas": null,
       "grid_template_columns": null,
       "grid_template_rows": null,
       "height": null,
       "justify_content": null,
       "justify_items": null,
       "left": null,
       "margin": null,
       "max_height": null,
       "max_width": null,
       "min_height": null,
       "min_width": null,
       "object_fit": null,
       "object_position": null,
       "order": null,
       "overflow": null,
       "overflow_x": null,
       "overflow_y": null,
       "padding": null,
       "right": null,
       "top": null,
       "visibility": null,
       "width": null
      }
     },
     "720a19b7c38f416a93883a4807a5a4ba": {
      "model_module": "@jupyter-widgets/controls",
      "model_module_version": "1.5.0",
      "model_name": "ProgressStyleModel",
      "state": {
       "_model_module": "@jupyter-widgets/controls",
       "_model_module_version": "1.5.0",
       "_model_name": "ProgressStyleModel",
       "_view_count": null,
       "_view_module": "@jupyter-widgets/base",
       "_view_module_version": "1.2.0",
       "_view_name": "StyleView",
       "bar_color": null,
       "description_width": "initial"
      }
     },
     "8c57956e97934ec88c424eb62a13e384": {
      "model_module": "@jupyter-widgets/controls",
      "model_module_version": "1.5.0",
      "model_name": "FloatProgressModel",
      "state": {
       "_dom_classes": [],
       "_model_module": "@jupyter-widgets/controls",
       "_model_module_version": "1.5.0",
       "_model_name": "FloatProgressModel",
       "_view_count": null,
       "_view_module": "@jupyter-widgets/controls",
       "_view_module_version": "1.5.0",
       "_view_name": "ProgressView",
       "bar_style": "success",
       "description": "Downloading: 100%",
       "description_tooltip": null,
       "layout": "IPY_MODEL_2c7348f365334e89b659657cc627438e",
       "max": 1472569832.0,
       "min": 0.0,
       "orientation": "horizontal",
       "style": "IPY_MODEL_21cb696bdfd741348c92dafc3143ab99",
       "value": 1472569832.0
      }
     },
     "8d5678d4fa7e431c83e2a4faf9ae4205": {
      "model_module": "@jupyter-widgets/controls",
      "model_module_version": "1.5.0",
      "model_name": "HTMLModel",
      "state": {
       "_dom_classes": [],
       "_model_module": "@jupyter-widgets/controls",
       "_model_module_version": "1.5.0",
       "_model_name": "HTMLModel",
       "_view_count": null,
       "_view_module": "@jupyter-widgets/controls",
       "_view_module_version": "1.5.0",
       "_view_name": "HTMLView",
       "description": "",
       "description_tooltip": null,
       "layout": "IPY_MODEL_fa2c908b2e04498293e2a49affed3809",
       "placeholder": "​",
       "style": "IPY_MODEL_14f0a61817404331b3d97dec43e43121",
       "value": " 434/434 [01:19&lt;00:00, 5.49B/s]"
      }
     },
     "96d6c516366f4cec87e167511b44cffd": {
      "model_module": "@jupyter-widgets/controls",
      "model_module_version": "1.5.0",
      "model_name": "ProgressStyleModel",
      "state": {
       "_model_module": "@jupyter-widgets/controls",
       "_model_module_version": "1.5.0",
       "_model_name": "ProgressStyleModel",
       "_view_count": null,
       "_view_module": "@jupyter-widgets/base",
       "_view_module_version": "1.2.0",
       "_view_name": "StyleView",
       "bar_color": null,
       "description_width": "initial"
      }
     },
     "a0a5e24be27f43d6a8c378271cc6fd63": {
      "model_module": "@jupyter-widgets/controls",
      "model_module_version": "1.5.0",
      "model_name": "HBoxModel",
      "state": {
       "_dom_classes": [],
       "_model_module": "@jupyter-widgets/controls",
       "_model_module_version": "1.5.0",
       "_model_name": "HBoxModel",
       "_view_count": null,
       "_view_module": "@jupyter-widgets/controls",
       "_view_module_version": "1.5.0",
       "_view_name": "HBoxView",
       "box_style": "",
       "children": [
        "IPY_MODEL_f5cfb411e6d1430480ef1e93a6e5d619",
        "IPY_MODEL_bdb5ed9a9ca04146b5929469ee2c2237"
       ],
       "layout": "IPY_MODEL_d0ca2616127c46088903eb8a43e0d87b"
      }
     },
     "b46d12cb0c4b411c94a5b34646fc386a": {
      "model_module": "@jupyter-widgets/base",
      "model_module_version": "1.2.0",
      "model_name": "LayoutModel",
      "state": {
       "_model_module": "@jupyter-widgets/base",
       "_model_module_version": "1.2.0",
       "_model_name": "LayoutModel",
       "_view_count": null,
       "_view_module": "@jupyter-widgets/base",
       "_view_module_version": "1.2.0",
       "_view_name": "LayoutView",
       "align_content": null,
       "align_items": null,
       "align_self": null,
       "border": null,
       "bottom": null,
       "display": null,
       "flex": null,
       "flex_flow": null,
       "grid_area": null,
       "grid_auto_columns": null,
       "grid_auto_flow": null,
       "grid_auto_rows": null,
       "grid_column": null,
       "grid_gap": null,
       "grid_row": null,
       "grid_template_areas": null,
       "grid_template_columns": null,
       "grid_template_rows": null,
       "height": null,
       "justify_content": null,
       "justify_items": null,
       "left": null,
       "margin": null,
       "max_height": null,
       "max_width": null,
       "min_height": null,
       "min_width": null,
       "object_fit": null,
       "object_position": null,
       "order": null,
       "overflow": null,
       "overflow_x": null,
       "overflow_y": null,
       "padding": null,
       "right": null,
       "top": null,
       "visibility": null,
       "width": null
      }
     },
     "bab3a57a17a44d1c850054909113fcec": {
      "model_module": "@jupyter-widgets/controls",
      "model_module_version": "1.5.0",
      "model_name": "DescriptionStyleModel",
      "state": {
       "_model_module": "@jupyter-widgets/controls",
       "_model_module_version": "1.5.0",
       "_model_name": "DescriptionStyleModel",
       "_view_count": null,
       "_view_module": "@jupyter-widgets/base",
       "_view_module_version": "1.2.0",
       "_view_name": "StyleView",
       "description_width": ""
      }
     },
     "bdb5ed9a9ca04146b5929469ee2c2237": {
      "model_module": "@jupyter-widgets/controls",
      "model_module_version": "1.5.0",
      "model_name": "HTMLModel",
      "state": {
       "_dom_classes": [],
       "_model_module": "@jupyter-widgets/controls",
       "_model_module_version": "1.5.0",
       "_model_name": "HTMLModel",
       "_view_count": null,
       "_view_module": "@jupyter-widgets/controls",
       "_view_module_version": "1.5.0",
       "_view_name": "HTMLView",
       "description": "",
       "description_tooltip": null,
       "layout": "IPY_MODEL_10bcce5582ee4cc19ffca42002fd740b",
       "placeholder": "​",
       "style": "IPY_MODEL_1357fa644794432b93dcf28787ad7965",
       "value": " 232k/232k [00:00&lt;00:00, 607kB/s]"
      }
     },
     "c51d5514f5c84a52b35a2d4d37fbd4a4": {
      "model_module": "@jupyter-widgets/controls",
      "model_module_version": "1.5.0",
      "model_name": "HBoxModel",
      "state": {
       "_dom_classes": [],
       "_model_module": "@jupyter-widgets/controls",
       "_model_module_version": "1.5.0",
       "_model_name": "HBoxModel",
       "_view_count": null,
       "_view_module": "@jupyter-widgets/controls",
       "_view_module_version": "1.5.0",
       "_view_name": "HBoxView",
       "box_style": "",
       "children": [
        "IPY_MODEL_8c57956e97934ec88c424eb62a13e384",
        "IPY_MODEL_158311bc6a4c42e1ba7446790199bae2"
       ],
       "layout": "IPY_MODEL_3f789ecff94b4a9da940af5efe047018"
      }
     },
     "d0ca2616127c46088903eb8a43e0d87b": {
      "model_module": "@jupyter-widgets/base",
      "model_module_version": "1.2.0",
      "model_name": "LayoutModel",
      "state": {
       "_model_module": "@jupyter-widgets/base",
       "_model_module_version": "1.2.0",
       "_model_name": "LayoutModel",
       "_view_count": null,
       "_view_module": "@jupyter-widgets/base",
       "_view_module_version": "1.2.0",
       "_view_name": "LayoutView",
       "align_content": null,
       "align_items": null,
       "align_self": null,
       "border": null,
       "bottom": null,
       "display": null,
       "flex": null,
       "flex_flow": null,
       "grid_area": null,
       "grid_auto_columns": null,
       "grid_auto_flow": null,
       "grid_auto_rows": null,
       "grid_column": null,
       "grid_gap": null,
       "grid_row": null,
       "grid_template_areas": null,
       "grid_template_columns": null,
       "grid_template_rows": null,
       "height": null,
       "justify_content": null,
       "justify_items": null,
       "left": null,
       "margin": null,
       "max_height": null,
       "max_width": null,
       "min_height": null,
       "min_width": null,
       "object_fit": null,
       "object_position": null,
       "order": null,
       "overflow": null,
       "overflow_x": null,
       "overflow_y": null,
       "padding": null,
       "right": null,
       "top": null,
       "visibility": null,
       "width": null
      }
     },
     "f5cfb411e6d1430480ef1e93a6e5d619": {
      "model_module": "@jupyter-widgets/controls",
      "model_module_version": "1.5.0",
      "model_name": "FloatProgressModel",
      "state": {
       "_dom_classes": [],
       "_model_module": "@jupyter-widgets/controls",
       "_model_module_version": "1.5.0",
       "_model_name": "FloatProgressModel",
       "_view_count": null,
       "_view_module": "@jupyter-widgets/controls",
       "_view_module_version": "1.5.0",
       "_view_name": "ProgressView",
       "bar_style": "success",
       "description": "Downloading: 100%",
       "description_tooltip": null,
       "layout": "IPY_MODEL_b46d12cb0c4b411c94a5b34646fc386a",
       "max": 231508.0,
       "min": 0.0,
       "orientation": "horizontal",
       "style": "IPY_MODEL_96d6c516366f4cec87e167511b44cffd",
       "value": 231508.0
      }
     },
     "fa2c908b2e04498293e2a49affed3809": {
      "model_module": "@jupyter-widgets/base",
      "model_module_version": "1.2.0",
      "model_name": "LayoutModel",
      "state": {
       "_model_module": "@jupyter-widgets/base",
       "_model_module_version": "1.2.0",
       "_model_name": "LayoutModel",
       "_view_count": null,
       "_view_module": "@jupyter-widgets/base",
       "_view_module_version": "1.2.0",
       "_view_name": "LayoutView",
       "align_content": null,
       "align_items": null,
       "align_self": null,
       "border": null,
       "bottom": null,
       "display": null,
       "flex": null,
       "flex_flow": null,
       "grid_area": null,
       "grid_auto_columns": null,
       "grid_auto_flow": null,
       "grid_auto_rows": null,
       "grid_column": null,
       "grid_gap": null,
       "grid_row": null,
       "grid_template_areas": null,
       "grid_template_columns": null,
       "grid_template_rows": null,
       "height": null,
       "justify_content": null,
       "justify_items": null,
       "left": null,
       "margin": null,
       "max_height": null,
       "max_width": null,
       "min_height": null,
       "min_width": null,
       "object_fit": null,
       "object_position": null,
       "order": null,
       "overflow": null,
       "overflow_x": null,
       "overflow_y": null,
       "padding": null,
       "right": null,
       "top": null,
       "visibility": null,
       "width": null
      }
     }
    },
    "version_major": 2,
    "version_minor": 0
   }
  }
 },
 "nbformat": 4,
 "nbformat_minor": 4
}
